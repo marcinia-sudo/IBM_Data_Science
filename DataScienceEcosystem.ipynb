{
 "cells": [
  {
   "cell_type": "markdown",
   "id": "c1d628a9-4de7-446d-b083-c912a603f557",
   "metadata": {},
   "source": [
    "# Data Science Tools and Ecosystem"
   ]
  },
  {
   "cell_type": "markdown",
   "id": "1f21c5a2-7eff-45e4-a4aa-3b1422871bf0",
   "metadata": {},
   "source": [
    "## In this notebook, Data Science Tools and Ecosystem are summarized.\n"
   ]
  },
  {
   "cell_type": "markdown",
   "id": "b94a5699-8b11-48e8-9bfb-f5b24b121f5d",
   "metadata": {
    "jp-MarkdownHeadingCollapsed": true
   },
   "source": [
    "***Objectives:***\n",
    "* List popular languages for Data Science\n",
    "* List commonly used libraries Data Scientists\n",
    "* Create a Table of Data Science Tools\n",
    "* Create a few examples of arithmetic expressions using Python\n",
    "* Share this notebook on Github"
   ]
  },
  {
   "cell_type": "markdown",
   "id": "20d87879-0056-4da0-841a-992ad98874d6",
   "metadata": {},
   "source": [
    "### Some of the popular languages that Data Scientists use are:\n",
    "1. Python\n",
    "2. R\n",
    "3. SQL\n",
    "4. Java\n",
    "5. Scala\n",
    "6. C/C++\n",
    "7. JacaScript"
   ]
  },
  {
   "cell_type": "markdown",
   "id": "924cbac3-02e4-47cf-a681-b73bdd43651a",
   "metadata": {},
   "source": [
    "### Some of the commonly used libraries used by Data Scientist include:\n",
    "1. NumPy\n",
    "2. SciPy\n",
    "3. Pandas\n",
    "4. Matplotlib\n",
    "5. Plotly\n",
    "6. Scikit-Learn\n",
    "7. TensorFlow\n",
    "8. PyTorch\n",
    "9. Keras\n",
    "10. Seaborn"
   ]
  },
  {
   "cell_type": "markdown",
   "id": "60a8f5e5-373f-409c-a048-959fc0a3c73d",
   "metadata": {},
   "source": [
    "| Data Science Tools |\n",
    "|------------------- |\n",
    "| Pandas |\n",
    "| Matplotlib |\n",
    "| TensorFlow |"
   ]
  },
  {
   "cell_type": "markdown",
   "id": "c88bb7a9-ca67-4d3c-a681-30bcdc31e506",
   "metadata": {},
   "source": [
    "### Below are a few examples of evaluating arithmetic expressions in Python"
   ]
  },
  {
   "cell_type": "code",
   "execution_count": 3,
   "id": "9d420b76-13b9-4202-a57a-54e6d369cd85",
   "metadata": {},
   "outputs": [
    {
     "data": {
      "text/plain": [
       "17"
      ]
     },
     "execution_count": 3,
     "metadata": {},
     "output_type": "execute_result"
    }
   ],
   "source": [
    "(3*4)+5\n",
    "# This is a simple arithmetic expression to mutiply then add integers"
   ]
  },
  {
   "cell_type": "code",
   "execution_count": 4,
   "id": "5cb10e98-9674-43f5-87b0-530e28c1b797",
   "metadata": {},
   "outputs": [
    {
     "data": {
      "text/plain": [
       "3.3333333333333335"
      ]
     },
     "execution_count": 4,
     "metadata": {},
     "output_type": "execute_result"
    }
   ],
   "source": [
    "# this will convert 200 minutes to hours by diving by 60\n",
    "200 / 60 "
   ]
  },
  {
   "cell_type": "markdown",
   "id": "560a792b-b40a-4cc9-8606-f0be6a045e69",
   "metadata": {},
   "source": [
    "## Author: \n",
    "Michael Arciniaga"
   ]
  },
  {
   "cell_type": "code",
   "execution_count": null,
   "id": "a18a6ad0-d52f-4367-b6fd-9ef5b4c80b81",
   "metadata": {},
   "outputs": [],
   "source": []
  }
 ],
 "metadata": {
  "kernelspec": {
   "display_name": "Python 3 (ipykernel)",
   "language": "python",
   "name": "python3"
  },
  "language_info": {
   "codemirror_mode": {
    "name": "ipython",
    "version": 3
   },
   "file_extension": ".py",
   "mimetype": "text/x-python",
   "name": "python",
   "nbconvert_exporter": "python",
   "pygments_lexer": "ipython3",
   "version": "3.10.12"
  }
 },
 "nbformat": 4,
 "nbformat_minor": 5
}
